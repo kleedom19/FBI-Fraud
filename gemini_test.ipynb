{
 "cells": [
  {
   "cell_type": "markdown",
   "id": "f71a16d4",
   "metadata": {},
   "source": [
    "# Proof of Concept for Gemini API"
   ]
  },
  {
   "cell_type": "markdown",
   "id": "ed92e6d6",
   "metadata": {},
   "source": [
    "### Set up Gemini"
   ]
  },
  {
   "cell_type": "code",
   "execution_count": 1,
   "id": "4b0d24c8",
   "metadata": {},
   "outputs": [
    {
     "data": {
      "text/plain": [
       "True"
      ]
     },
     "execution_count": 1,
     "metadata": {},
     "output_type": "execute_result"
    }
   ],
   "source": [
    "import os\n",
    "from dotenv import load_dotenv\n",
    "import google.generativeai as genai\n",
    "\n",
    "# Load environment variables from .env file\n",
    "load_dotenv()"
   ]
  },
  {
   "cell_type": "markdown",
   "id": "480a5f21",
   "metadata": {},
   "source": [
    "### Get test response"
   ]
  },
  {
   "cell_type": "code",
   "execution_count": 2,
   "id": "780a1f69",
   "metadata": {},
   "outputs": [
    {
     "name": "stdout",
     "output_type": "stream",
     "text": [
      "AI learns from data, making decisions or predictions.\n",
      "\n"
     ]
    }
   ],
   "source": [
    "api_key = os.getenv(\"GEMINI_API_KEY\")\n",
    "\n",
    "if not api_key:\n",
    "    raise ValueError(\n",
    "        \"GEMINI_API_KEY not found! Please set it in your .env file or environment variables.\\n\"\n",
    "        \"Create a .env file in this directory with: GEMINI_API_KEY=your_key_here\"\n",
    "    )\n",
    "\n",
    "genai.configure(api_key=api_key)\n",
    "\n",
    "model = genai.GenerativeModel('gemini-2.0-flash-lite-001')\n",
    "response = model.generate_content(\"Explain how AI works in a few words\")\n",
    "print(response.text)"
   ]
  },
  {
   "cell_type": "code",
   "execution_count": null,
   "id": "a92125cf",
   "metadata": {},
   "outputs": [],
   "source": []
  }
 ],
 "metadata": {
  "kernelspec": {
   "display_name": ".venv",
   "language": "python",
   "name": "python3"
  },
  "language_info": {
   "codemirror_mode": {
    "name": "ipython",
    "version": 3
   },
   "file_extension": ".py",
   "mimetype": "text/x-python",
   "name": "python",
   "nbconvert_exporter": "python",
   "pygments_lexer": "ipython3",
   "version": "3.12.2"
  }
 },
 "nbformat": 4,
 "nbformat_minor": 5
}
